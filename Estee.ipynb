{
 "cells": [
  {
   "cell_type": "code",
   "execution_count": 1,
   "metadata": {},
   "outputs": [],
   "source": [
    "import pandas as pd\n",
    "import numpy as np\n",
    "\n",
    "raw = pd.read_csv('TCS0804.csv')\n",
    "\n",
    "# drop index column\n",
    "raw.drop(['Unnamed: 0'], axis=1, inplace=True)"
   ]
  },
  {
   "cell_type": "code",
   "execution_count": 2,
   "metadata": {},
   "outputs": [],
   "source": [
    "target = 'MidReturn10Min'\n",
    "\n",
    "# drop attributes collinear with the target\n",
    "drop= ['MidReturn2Min', 'MidReturn4Min', 'MidReturn6Min', 'MidReturn8Min', 'MidReturn8Min', 'Return_10_Min', 'Return_1_Min', 'Return_3_Min','Return_20_Min', 'Return_60_Min', 'EpochTime']"
   ]
  },
  {
   "cell_type": "markdown",
   "metadata": {},
   "source": [
    "### Cross sectional analysis"
   ]
  },
  {
   "cell_type": "code",
   "execution_count": 3,
   "metadata": {},
   "outputs": [
    {
     "data": {
      "application/vnd.jupyter.widget-view+json": {
       "model_id": "234fac145b7f4e04b7e507449a34f7d5",
       "version_major": 2,
       "version_minor": 0
      },
      "text/plain": [
       "Output()"
      ]
     },
     "metadata": {},
     "output_type": "display_data"
    },
    {
     "data": {
      "application/vnd.jupyter.widget-view+json": {
       "model_id": "b254d90c409a4b2da45dff75ab2b557b",
       "version_major": 2,
       "version_minor": 0
      },
      "text/plain": [
       "Output()"
      ]
     },
     "metadata": {},
     "output_type": "display_data"
    },
    {
     "data": {
      "application/vnd.jupyter.widget-view+json": {
       "model_id": "59dfdd0430ee483992deed251d8890ee",
       "version_major": 2,
       "version_minor": 0
      },
      "text/plain": [
       "Output()"
      ]
     },
     "metadata": {},
     "output_type": "display_data"
    }
   ],
   "source": [
    "import data_context_map.pattern_miner as pm\n",
    "\n",
    "out = pm.DataContextMap(raw.drop(drop, axis=1), dependent=target, es_thresh=0.55, minsup=0.005, max_pattern=100)\n",
    "out.render()"
   ]
  },
  {
   "cell_type": "markdown",
   "metadata": {},
   "source": [
    "### Time series analysis"
   ]
  },
  {
   "cell_type": "markdown",
   "metadata": {},
   "source": [
    "#### There are noticeable gaps in EpochTime. I suspect these correpsond to different days."
   ]
  },
  {
   "cell_type": "code",
   "execution_count": 4,
   "metadata": {},
   "outputs": [
    {
     "data": {
      "image/png": "[encoded data removed]",
      "text/plain": [
       "<Figure size 1440x360 with 1 Axes>"
      ]
     },
     "metadata": {
      "needs_background": "light"
     },
     "output_type": "display_data"
    }
   ],
   "source": [
    "import matplotlib.pyplot as plt\n",
    "\n",
    "plt.rcParams[\"figure.figsize\"] = (20,5)\n",
    "\n",
    "plt.scatter(raw['EpochTime'], raw[target])\n",
    "plt.show()"
   ]
  },
  {
   "cell_type": "markdown",
   "metadata": {},
   "source": [
    "#### We will assign all points in each section to the same 'Epoch'."
   ]
  },
  {
   "cell_type": "code",
   "execution_count": 5,
   "metadata": {},
   "outputs": [],
   "source": [
    "raw['Epoch'] = 0\n",
    "t=1596550000\n",
    "raw.loc[(raw['EpochTime']<t), 'Epoch'] = 0\n",
    "raw.loc[(raw['EpochTime']>=t) & (raw['EpochTime']<t+100000), 'Epoch'] = 1\n",
    "t += 100000\n",
    "raw.loc[(raw['EpochTime']>=t) & (raw['EpochTime']<t+100000), 'Epoch'] = 2\n",
    "t += 100000\n",
    "raw.loc[(raw['EpochTime']>=t) & (raw['EpochTime']<t+100000), 'Epoch'] = 3\n",
    "\n",
    "#t = 1597012711\n",
    "tv = [1597000000, 1597100000, 1597150000, 1597250000, 1597350000]\n",
    "t0 = tv[0]\n",
    "t1 = tv[1]\n",
    "raw.loc[(raw['EpochTime']>=t0) & (raw['EpochTime']<t1), 'Epoch'] = 4\n",
    "\n",
    "t0 = tv[1]\n",
    "t1 = tv[2]\n",
    "raw.loc[(raw['EpochTime']>=t0) & (raw['EpochTime']<t1), 'Epoch'] = 5\n",
    "\n",
    "t0 = tv[2]\n",
    "t1 = tv[3]\n",
    "raw.loc[(raw['EpochTime']>=t0) & (raw['EpochTime']<t1), 'Epoch'] = 6\n",
    "\n",
    "t0 = tv[3]\n",
    "t1 = tv[4]\n",
    "raw.loc[(raw['EpochTime']>=t0) & (raw['EpochTime']<t1), 'Epoch'] = 7\n",
    "\n",
    "tv = [1597500000, 1597700000, 1597800000, 1597850000, 1597950000, 1598200000]\n",
    "t0 = tv[0]\n",
    "t1 = tv[1]\n",
    "raw.loc[(raw['EpochTime']>=t0) & (raw['EpochTime']<t1), 'Epoch'] = 8\n",
    "\n",
    "t0 = tv[1]\n",
    "t1 = tv[2]\n",
    "raw.loc[(raw['EpochTime']>=t0) & (raw['EpochTime']<t1), 'Epoch'] = 9\n",
    "\n",
    "t0 = tv[2]\n",
    "t1 = tv[3]\n",
    "raw.loc[(raw['EpochTime']>=t0) & (raw['EpochTime']<t1), 'Epoch'] = 10\n",
    "\n",
    "t0 = tv[3]\n",
    "t1 = tv[4]\n",
    "raw.loc[(raw['EpochTime']>=t0) & (raw['EpochTime']<t1), 'Epoch'] = 11\n",
    "\n",
    "t0 = tv[4]\n",
    "t1 = tv[5]\n",
    "raw.loc[(raw['EpochTime']>=t0) & (raw['EpochTime']<t1), 'Epoch'] = 12\n",
    "\n",
    "\n",
    "tv = [1598200000, 1598350000, 1598500000, 1598700000, 1600000000]\n",
    "t0 = tv[0]\n",
    "t1 = tv[1]\n",
    "raw.loc[(raw['EpochTime']>=t0) & (raw['EpochTime']<t1), 'Epoch'] = 13\n",
    "\n",
    "t0 = tv[1]\n",
    "t1 = tv[2]\n",
    "raw.loc[(raw['EpochTime']>=t0) & (raw['EpochTime']<t1), 'Epoch'] = 14\n",
    "\n",
    "t0 = tv[2]\n",
    "t1 = tv[3]\n",
    "raw.loc[(raw['EpochTime']>=t0) & (raw['EpochTime']<t1), 'Epoch'] = 15\n",
    "\n",
    "t0 = tv[3]\n",
    "t1 = tv[4]\n",
    "raw.loc[(raw['EpochTime']>=t0) & (raw['EpochTime']<t1), 'Epoch'] = 16\n"
   ]
  },
  {
   "cell_type": "code",
   "execution_count": 6,
   "metadata": {},
   "outputs": [
    {
     "data": {
      "application/vnd.jupyter.widget-view+json": {
       "model_id": "ad76007931224ed6952d0a68b9def70b",
       "version_major": 2,
       "version_minor": 0
      },
      "text/plain": [
       "Output()"
      ]
     },
     "metadata": {},
     "output_type": "display_data"
    },
    {
     "data": {
      "application/vnd.jupyter.widget-view+json": {
       "model_id": "b6ef562b8e3548c28b97b3c50c072509",
       "version_major": 2,
       "version_minor": 0
      },
      "text/plain": [
       "Output()"
      ]
     },
     "metadata": {},
     "output_type": "display_data"
    },
    {
     "data": {
      "application/vnd.jupyter.widget-view+json": {
       "model_id": "ef42c9d7c8aa41e597d86712500c8d7d",
       "version_major": 2,
       "version_minor": 0
      },
      "text/plain": [
       "Output()"
      ]
     },
     "metadata": {},
     "output_type": "display_data"
    }
   ],
   "source": [
    "import data_context_map.pattern_miner as pm\n",
    "\n",
    "out = pm.DataContextMap(raw.drop(drop, axis=1), target, temporal='Epoch', min_stable=1, ts_width=1, es_thresh=0.7,  max_pattern=100)\n",
    "out.render()"
   ]
  },
  {
   "cell_type": "markdown",
   "metadata": {},
   "source": [
    "#### Perform correlation Mining"
   ]
  },
  {
   "cell_type": "code",
   "execution_count": 7,
   "metadata": {},
   "outputs": [
    {
     "data": {
      "application/vnd.jupyter.widget-view+json": {
       "model_id": "a470ce593d61437da5b7fda51b3178fd",
       "version_major": 2,
       "version_minor": 0
      },
      "text/plain": [
       "Output()"
      ]
     },
     "metadata": {},
     "output_type": "display_data"
    },
    {
     "data": {
      "application/vnd.jupyter.widget-view+json": {
       "model_id": "9bb05178fae9428194b1b99d68e4eda3",
       "version_major": 2,
       "version_minor": 0
      },
      "text/plain": [
       "Output()"
      ]
     },
     "metadata": {},
     "output_type": "display_data"
    }
   ],
   "source": [
    "import data_context_map.correlation_miner as cm\n",
    "ctab = cm.CorrelationTable(raw.drop(drop, axis=1), target, precompute=False, es_thresh=0.4, minsup=0.005, max_pattern=100)\n",
    "ctab.render()"
   ]
  },
  {
   "cell_type": "code",
   "execution_count": null,
   "metadata": {},
   "outputs": [],
   "source": []
  }
 ],
 "metadata": {
  "kernelspec": {
   "display_name": "Python 3",
   "language": "python",
   "name": "python3"
  },
  "language_info": {
   "codemirror_mode": {
    "name": "ipython",
    "version": 3
   },
   "file_extension": ".py",
   "mimetype": "text/x-python",
   "name": "python",
   "nbconvert_exporter": "python",
   "pygments_lexer": "ipython3",
   "version": "3.7.7"
  }
 },
 "nbformat": 4,
 "nbformat_minor": 4
}
