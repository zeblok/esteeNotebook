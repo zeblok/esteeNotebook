{
 "cells": [
  {
   "cell_type": "code",
   "execution_count": null,
   "metadata": {},
   "outputs": [],
   "source": [
    "from blazingsql import BlazingContext\n",
    "bc = BlazingContext()\n",
    "\n",
    "bc.s3('estee',\n",
    "     bucket_name='datalake',\n",
    "     access_key_id='epapenhausen',\n",
    "     secret_key='5d96af203bf43b74a93765dc',\n",
    "     endpoint_override=\"http://130.245.177.209:9000\")\n",
    "\n",
    "bc.create_table('estee', 's3://estee/epapenhausen/TCS 0804 to 0831.csv')"
   ]
  },
  {
   "cell_type": "code",
   "execution_count": null,
   "metadata": {},
   "outputs": [],
   "source": [
    "raw = bc.sql(\"select * from estee\")\n",
    "raw.drop(['Unnamed: 0'], axis=1, inplace=True);"
   ]
  },
  {
   "cell_type": "code",
   "execution_count": null,
   "metadata": {},
   "outputs": [],
   "source": [
    "target = 'MidReturn10Min'\n",
    "\n",
    "# drop attributes collinear with the target\n",
    "drop= ['MidReturn2Min', 'MidReturn4Min', 'MidReturn6Min', 'MidReturn8Min', 'Return_10_Min', 'Return_1_Min', 'Return_3_Min','Return_20_Min', 'Return_60_Min', 'EpochTime']"
   ]
  },
  {
   "cell_type": "markdown",
   "metadata": {},
   "source": [
    "### Multiclass Mining"
   ]
  },
  {
   "cell_type": "markdown",
   "metadata": {},
   "source": [
    "For pattern mining with a multiclass target variable, the target attribute is expected to map classes consecutive integers (i.e. 0 for class 1, 1 for class 2, etc.). Multiclass mining uses the same statistical tests as the Binary pattern mining (i.e. binary mining is performed for each class). Each pattern is specific to a single class (i.e. a pattern specifies a region where the occurrence of a particular class is unusually high). The effect size used is the odds ratio and is specific to each class."
   ]
  },
  {
   "cell_type": "markdown",
   "metadata": {},
   "source": [
    "The es_thresh parameter specifies the minimum effect size (i.e. as measured by the odds ratio) for a pattern to be considered 'interesting'. The odds ratio quantifies the change in odds of seeing a specific class within the pattern versus outside the pattern (i.e. values > 1 indicate a higher likelihood of seeing the target class in the pattern). The es_thresh parameter can either be a float or a python dictionary mapping class ids (i.e. 0, 1, or 2) to its corresponding minimum effect size. This allows for specifying different effect size thresholds for different classes."
   ]
  },
  {
   "cell_type": "code",
   "execution_count": null,
   "metadata": {},
   "outputs": [],
   "source": [
    "# convert to multi-class\n",
    "t = 35\n",
    "\n",
    "# 0: buy, 1: hold, 2: sell\n",
    "raw['trade'] = raw[target].applymap(lambda x: 0 if x > t else (2 if x < -t else 1))"
   ]
  },
  {
   "cell_type": "markdown",
   "metadata": {},
   "source": [
    "### Cross sectional analysis"
   ]
  },
  {
   "cell_type": "code",
   "execution_count": null,
   "metadata": {},
   "outputs": [],
   "source": [
    "import data_context_map.pattern_miner as pm\n",
    "\n",
    "# odds ratio: 2.0 for class 0 (buy), 5.0 for class 1 (hold), 2.0 for class 2 (sell)\n",
    "es_thresh={0: 2.0, 1: 5.0, 2: 2.0}\n",
    "\n",
    "col_drop = drop + [target]\n",
    "out = pm.DataContextMap(raw.to_pandas().drop(col_drop, axis=1), dependent='trade', mine_type='multiclass', es_thresh=es_thresh,  max_pattern=100)\n",
    "out.render()"
   ]
  },
  {
   "cell_type": "markdown",
   "metadata": {},
   "source": [
    "### Time series analysis"
   ]
  },
  {
   "cell_type": "markdown",
   "metadata": {},
   "source": [
    "#### There are noticeable gaps in EpochTime. I suspect these correpsond to different days."
   ]
  },
  {
   "cell_type": "code",
   "execution_count": null,
   "metadata": {},
   "outputs": [],
   "source": [
    "import matplotlib.pyplot as plt\n",
    "\n",
    "plt.rcParams[\"figure.figsize\"] = (20,5)\n",
    "\n",
    "plt.scatter(raw['EpochTime'].to_pandas(), raw[target].to_pandas())\n",
    "plt.show()"
   ]
  },
  {
   "cell_type": "markdown",
   "metadata": {},
   "source": [
    "#### We will assign all points in each section to the same 'Epoch'."
   ]
  },
  {
   "cell_type": "code",
   "execution_count": null,
   "metadata": {},
   "outputs": [],
   "source": [
    "raw['Epoch'] = 0\n",
    "t=1596550000\n",
    "raw.loc[(raw['EpochTime']<t), 'Epoch'] = 0\n",
    "raw.loc[(raw['EpochTime']>=t) & (raw['EpochTime']<t+100000), 'Epoch'] = 1\n",
    "t += 100000\n",
    "raw.loc[(raw['EpochTime']>=t) & (raw['EpochTime']<t+100000), 'Epoch'] = 2\n",
    "t += 100000\n",
    "raw.loc[(raw['EpochTime']>=t) & (raw['EpochTime']<t+100000), 'Epoch'] = 3\n",
    "\n",
    "#t = 1597012711\n",
    "tv = [1597000000, 1597100000, 1597150000, 1597250000, 1597350000]\n",
    "t0 = tv[0]\n",
    "t1 = tv[1]\n",
    "raw.loc[(raw['EpochTime']>=t0) & (raw['EpochTime']<t1), 'Epoch'] = 4\n",
    "\n",
    "t0 = tv[1]\n",
    "t1 = tv[2]\n",
    "raw.loc[(raw['EpochTime']>=t0) & (raw['EpochTime']<t1), 'Epoch'] = 5\n",
    "\n",
    "t0 = tv[2]\n",
    "t1 = tv[3]\n",
    "raw.loc[(raw['EpochTime']>=t0) & (raw['EpochTime']<t1), 'Epoch'] = 6\n",
    "\n",
    "t0 = tv[3]\n",
    "t1 = tv[4]\n",
    "raw.loc[(raw['EpochTime']>=t0) & (raw['EpochTime']<t1), 'Epoch'] = 7\n",
    "\n",
    "tv = [1597500000, 1597700000, 1597800000, 1597850000, 1597950000, 1598200000]\n",
    "t0 = tv[0]\n",
    "t1 = tv[1]\n",
    "raw.loc[(raw['EpochTime']>=t0) & (raw['EpochTime']<t1), 'Epoch'] = 8\n",
    "\n",
    "t0 = tv[1]\n",
    "t1 = tv[2]\n",
    "raw.loc[(raw['EpochTime']>=t0) & (raw['EpochTime']<t1), 'Epoch'] = 9\n",
    "\n",
    "t0 = tv[2]\n",
    "t1 = tv[3]\n",
    "raw.loc[(raw['EpochTime']>=t0) & (raw['EpochTime']<t1), 'Epoch'] = 10\n",
    "\n",
    "t0 = tv[3]\n",
    "t1 = tv[4]\n",
    "raw.loc[(raw['EpochTime']>=t0) & (raw['EpochTime']<t1), 'Epoch'] = 11\n",
    "\n",
    "t0 = tv[4]\n",
    "t1 = tv[5]\n",
    "raw.loc[(raw['EpochTime']>=t0) & (raw['EpochTime']<t1), 'Epoch'] = 12\n",
    "\n",
    "\n",
    "tv = [1598200000, 1598350000, 1598500000, 1598700000, 1600000000]\n",
    "t0 = tv[0]\n",
    "t1 = tv[1]\n",
    "raw.loc[(raw['EpochTime']>=t0) & (raw['EpochTime']<t1), 'Epoch'] = 13\n",
    "\n",
    "t0 = tv[1]\n",
    "t1 = tv[2]\n",
    "raw.loc[(raw['EpochTime']>=t0) & (raw['EpochTime']<t1), 'Epoch'] = 14\n",
    "\n",
    "t0 = tv[2]\n",
    "t1 = tv[3]\n",
    "raw.loc[(raw['EpochTime']>=t0) & (raw['EpochTime']<t1), 'Epoch'] = 15\n",
    "\n",
    "t0 = tv[3]\n",
    "t1 = tv[4]\n",
    "raw.loc[(raw['EpochTime']>=t0) & (raw['EpochTime']<t1), 'Epoch'] = 16\n"
   ]
  },
  {
   "cell_type": "code",
   "execution_count": null,
   "metadata": {},
   "outputs": [],
   "source": [
    "import data_context_map.pattern_miner as pm\n",
    "\n",
    "col_drop = drop + [target]\n",
    "out = pm.DataContextMap(raw.to_pandas().drop(col_drop, axis=1), dependent='trade', temporal='Epoch', min_stable=1, ts_width=1, mine_type='multiclass', es_thresh={0: 2.0, 1: 5.0, 2: 2.0}, max_pattern=100)\n",
    "out.render()"
   ]
  },
  {
   "cell_type": "code",
   "execution_count": null,
   "metadata": {},
   "outputs": [],
   "source": []
  }
 ],
 "metadata": {
  "kernelspec": {
   "display_name": "Python 3",
   "language": "python",
   "name": "python3"
  },
  "language_info": {
   "codemirror_mode": {
    "name": "ipython",
    "version": 3
   },
   "file_extension": ".py",
   "mimetype": "text/x-python",
   "name": "python",
   "nbconvert_exporter": "python",
   "pygments_lexer": "ipython3",
   "version": "3.7.7"
  }
 },
 "nbformat": 4,
 "nbformat_minor": 4
}
